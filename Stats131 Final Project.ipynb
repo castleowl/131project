{
 "cells": [
  {
   "cell_type": "markdown",
   "metadata": {},
   "source": [
    "# I. Context and Description "
   ]
  },
  {
   "cell_type": "markdown",
   "metadata": {},
   "source": [
    "- Background Information\n",
    "    \n",
    "    The complete dataset contains 720,000 competitive matches from the popular game PlayerUnknown's Battlegrounds (PUBG). PUBG is a first/third-person shooter battle royale style game developed and published by PUBG Corporation. The game is based on previous mods that were created by Brendan \"PlayerUnknown\" Greene for other games using the film Battle Royale for inspiration, and expanded into a standalone game under Greene's creative direction. \n",
    "    \n",
    "    In the game, up to 100 players parachute onto a remote island where teams and players fight to death until only one remains. Players are dropped from an airplane onto the island where they are to scavenge towns and buildings for weapons, vehicles and supplies. Players will then decide to either fight or hide with the ultimate goal of being the last one standing. The battleground shrinks a few minutes into the game as a bluezone appears and deals damage to anyone that stands inside the bluezone while sparing whoever is within the safe zone. As the available safe area of the game's map decreases in size over time, surviving players are directed into tighter areas and forced encouters. The last player or team standing wins the round.\n",
    "    \n",
    "    For analysis purposes and due to technical difficulties, we are only using one-fifth observations of the complete dataset. "
   ]
  },
  {
   "cell_type": "markdown",
   "metadata": {},
   "source": [
    "- Data Collection\n",
    "\n",
    "    The data was collected by a Kaggle user with username \"KP\" in January 2018. He used a scraping methodology that first starts with an initial seed player, which he chose to be his own account (a somewhat low rank individual). Then, using the seed player, he scrapes for all players that it has encountered in its historical matches. Taking a random subset of 5000 players from this and scraping for their historical games, we obtain our final dataset. \n",
    "    \n",
    "    A potential problem is that this could produce an unrepresentative sample of all games played since it is likely that players are queued and matched with other players of similar rank levels. In our case, it could be that the dataset is more representative of lower-tier gameplay. However, given the simplicity of the dataset, this should not be a significant issue. "
   ]
  },
  {
   "cell_type": "markdown",
   "metadata": {},
   "source": [
    "# II. Exploratory Analysis"
   ]
  },
  {
   "cell_type": "markdown",
   "metadata": {},
   "source": [
    "# III. Data Modeling"
   ]
  },
  {
   "cell_type": "code",
   "execution_count": null,
   "metadata": {},
   "outputs": [],
   "source": []
  }
 ],
 "metadata": {
  "kernelspec": {
   "display_name": "Python 3",
   "language": "python",
   "name": "python3"
  },
  "language_info": {
   "codemirror_mode": {
    "name": "ipython",
    "version": 3
   },
   "file_extension": ".py",
   "mimetype": "text/x-python",
   "name": "python",
   "nbconvert_exporter": "python",
   "pygments_lexer": "ipython3",
   "version": "3.6.4"
  }
 },
 "nbformat": 4,
 "nbformat_minor": 2
}
