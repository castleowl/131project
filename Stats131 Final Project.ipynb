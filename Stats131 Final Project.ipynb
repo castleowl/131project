{
 "cells": [
  {
   "cell_type": "markdown",
   "metadata": {},
   "source": [
    "# I. Context and Description "
   ]
  },
  {
   "cell_type": "markdown",
   "metadata": {},
   "source": [
    "- Background Information\n",
    "    \n",
    "    The complete dataset contains 720,000 competitive matches from the popular game PlayerUnknown's Battlegrounds (PUBG). PUBG is a first/third-person shooter battle royale style game developed and published by PUBG Corporation. The game is based on previous mods that were created by Brendan \"PlayerUnknown\" Greene for other games using the film Battle Royale for inspiration, and expanded into a standalone game under Greene's creative direction. \n",
    "    \n",
    "    In the game, up to 100 players parachute onto a remote island where teams and players fight to death until only one remains. Players are dropped from an airplane onto the island where they are to scavenge towns and buildings for weapons, vehicles and supplies. Players will then decide to either fight or hide with the ultimate goal of being the last one standing. The battleground shrinks a few minutes into the game as a bluezone appears and deals damage to anyone that stands inside the bluezone while sparing whoever is within the safe zone. As the available safe area of the game's map decreases in size over time, surviving players are directed into tighter areas and forced encouters. The last player or team standing wins the round.\n",
    "    \n",
    "    For analysis purposes and due to technical difficulties, we are only using one-fifth observations of the complete dataset. "
   ]
  },
  {
   "cell_type": "markdown",
   "metadata": {},
   "source": [
    "- Data Collection\n",
    "\n",
    "    The data was collected by a Kaggle user with username \"KP\" in January 2018. He used a scraping methodology that first starts with an initial seed player, which he chose to be his own account (a somewhat low rank individual). Then, using the seed player, he scrapes for all players that it has encountered in its historical matches. Taking a random subset of 5000 players from this and scraping for their historical games, we obtain our final dataset. \n",
    "    \n",
    "    A potential problem is that this could produce an unrepresentative sample of all games played since it is likely that players are queued and matched with other players of similar rank levels. In our case, it could be that the dataset is more representative of lower-tier gameplay. However, given the simplicity of the dataset, this should not be a significant issue. "
   ]
  },
  {
   "cell_type": "markdown",
   "metadata": {},
   "source": [
    "# II. Exploratory Analysis"
   ]
  },
  {
   "cell_type": "markdown",
   "metadata": {},
   "source": [
    "Our big question is: how can we increase the probability of winning. We will be approaching this question from three different aspects: server type, number of kills, and vehicle use. "
   ]
  },
  {
   "cell_type": "markdown",
   "metadata": {},
   "source": [
    "## Data Importing & Cleaning"
   ]
  },
  {
   "cell_type": "code",
   "execution_count": 3,
   "metadata": {},
   "outputs": [],
   "source": [
    "import pandas as pd\n",
    "import numpy as np\n",
    "import matplotlib.pyplot as plt\n",
    "import seaborn as sns\n",
    "\n",
    "agg = pd.read_csv('/Users/grumpyboo/Desktop/Stats_131/project/aggregate/agg_match_stats_0.csv')\n",
    "weapon = pd.read_csv('/Users/grumpyboo/Desktop/Stats_131/project/deaths/kill_match_stats_final_0.csv')"
   ]
  },
  {
   "cell_type": "code",
   "execution_count": 4,
   "metadata": {},
   "outputs": [],
   "source": [
    "agg.drop_duplicates(inplace=True)"
   ]
  },
  {
   "cell_type": "code",
   "execution_count": 5,
   "metadata": {},
   "outputs": [
    {
     "data": {
      "text/plain": [
       "(13849287, 15)"
      ]
     },
     "execution_count": 5,
     "metadata": {},
     "output_type": "execute_result"
    }
   ],
   "source": [
    "agg.shape"
   ]
  },
  {
   "cell_type": "code",
   "execution_count": 6,
   "metadata": {},
   "outputs": [
    {
     "data": {
      "text/html": [
       "<div>\n",
       "<style scoped>\n",
       "    .dataframe tbody tr th:only-of-type {\n",
       "        vertical-align: middle;\n",
       "    }\n",
       "\n",
       "    .dataframe tbody tr th {\n",
       "        vertical-align: top;\n",
       "    }\n",
       "\n",
       "    .dataframe thead th {\n",
       "        text-align: right;\n",
       "    }\n",
       "</style>\n",
       "<table border=\"1\" class=\"dataframe\">\n",
       "  <thead>\n",
       "    <tr style=\"text-align: right;\">\n",
       "      <th></th>\n",
       "      <th>date</th>\n",
       "      <th>game_size</th>\n",
       "      <th>match_id</th>\n",
       "      <th>match_mode</th>\n",
       "      <th>party_size</th>\n",
       "      <th>player_assists</th>\n",
       "      <th>player_dbno</th>\n",
       "      <th>player_dist_ride</th>\n",
       "      <th>player_dist_walk</th>\n",
       "      <th>player_dmg</th>\n",
       "      <th>player_kills</th>\n",
       "      <th>player_name</th>\n",
       "      <th>player_survive_time</th>\n",
       "      <th>team_id</th>\n",
       "      <th>team_placement</th>\n",
       "    </tr>\n",
       "  </thead>\n",
       "  <tbody>\n",
       "    <tr>\n",
       "      <th>0</th>\n",
       "      <td>2017-11-26T20:59:40+0000</td>\n",
       "      <td>37</td>\n",
       "      <td>2U4GBNA0YmnNZYkzjkfgN4ev-hXSrak_BSey_YEG6kIuDG...</td>\n",
       "      <td>tpp</td>\n",
       "      <td>2</td>\n",
       "      <td>0</td>\n",
       "      <td>1</td>\n",
       "      <td>2870.72400</td>\n",
       "      <td>1784.847780</td>\n",
       "      <td>117</td>\n",
       "      <td>1</td>\n",
       "      <td>SnuffIes</td>\n",
       "      <td>1106.320</td>\n",
       "      <td>4</td>\n",
       "      <td>18</td>\n",
       "    </tr>\n",
       "    <tr>\n",
       "      <th>1</th>\n",
       "      <td>2017-11-26T20:59:40+0000</td>\n",
       "      <td>37</td>\n",
       "      <td>2U4GBNA0YmnNZYkzjkfgN4ev-hXSrak_BSey_YEG6kIuDG...</td>\n",
       "      <td>tpp</td>\n",
       "      <td>2</td>\n",
       "      <td>0</td>\n",
       "      <td>1</td>\n",
       "      <td>2938.40723</td>\n",
       "      <td>1756.079710</td>\n",
       "      <td>127</td>\n",
       "      <td>1</td>\n",
       "      <td>Ozon3r</td>\n",
       "      <td>1106.315</td>\n",
       "      <td>4</td>\n",
       "      <td>18</td>\n",
       "    </tr>\n",
       "    <tr>\n",
       "      <th>2</th>\n",
       "      <td>2017-11-26T20:59:40+0000</td>\n",
       "      <td>37</td>\n",
       "      <td>2U4GBNA0YmnNZYkzjkfgN4ev-hXSrak_BSey_YEG6kIuDG...</td>\n",
       "      <td>tpp</td>\n",
       "      <td>2</td>\n",
       "      <td>0</td>\n",
       "      <td>0</td>\n",
       "      <td>0.00000</td>\n",
       "      <td>224.157562</td>\n",
       "      <td>67</td>\n",
       "      <td>0</td>\n",
       "      <td>bovize</td>\n",
       "      <td>235.558</td>\n",
       "      <td>5</td>\n",
       "      <td>33</td>\n",
       "    </tr>\n",
       "    <tr>\n",
       "      <th>3</th>\n",
       "      <td>2017-11-26T20:59:40+0000</td>\n",
       "      <td>37</td>\n",
       "      <td>2U4GBNA0YmnNZYkzjkfgN4ev-hXSrak_BSey_YEG6kIuDG...</td>\n",
       "      <td>tpp</td>\n",
       "      <td>2</td>\n",
       "      <td>0</td>\n",
       "      <td>0</td>\n",
       "      <td>0.00000</td>\n",
       "      <td>92.935150</td>\n",
       "      <td>0</td>\n",
       "      <td>0</td>\n",
       "      <td>sbahn87</td>\n",
       "      <td>197.553</td>\n",
       "      <td>5</td>\n",
       "      <td>33</td>\n",
       "    </tr>\n",
       "    <tr>\n",
       "      <th>4</th>\n",
       "      <td>2017-11-26T20:59:40+0000</td>\n",
       "      <td>37</td>\n",
       "      <td>2U4GBNA0YmnNZYkzjkfgN4ev-hXSrak_BSey_YEG6kIuDG...</td>\n",
       "      <td>tpp</td>\n",
       "      <td>2</td>\n",
       "      <td>0</td>\n",
       "      <td>0</td>\n",
       "      <td>2619.07739</td>\n",
       "      <td>2510.447000</td>\n",
       "      <td>175</td>\n",
       "      <td>2</td>\n",
       "      <td>GeminiZZZ</td>\n",
       "      <td>1537.495</td>\n",
       "      <td>14</td>\n",
       "      <td>11</td>\n",
       "    </tr>\n",
       "  </tbody>\n",
       "</table>\n",
       "</div>"
      ],
      "text/plain": [
       "                       date  game_size  \\\n",
       "0  2017-11-26T20:59:40+0000         37   \n",
       "1  2017-11-26T20:59:40+0000         37   \n",
       "2  2017-11-26T20:59:40+0000         37   \n",
       "3  2017-11-26T20:59:40+0000         37   \n",
       "4  2017-11-26T20:59:40+0000         37   \n",
       "\n",
       "                                            match_id match_mode  party_size  \\\n",
       "0  2U4GBNA0YmnNZYkzjkfgN4ev-hXSrak_BSey_YEG6kIuDG...        tpp           2   \n",
       "1  2U4GBNA0YmnNZYkzjkfgN4ev-hXSrak_BSey_YEG6kIuDG...        tpp           2   \n",
       "2  2U4GBNA0YmnNZYkzjkfgN4ev-hXSrak_BSey_YEG6kIuDG...        tpp           2   \n",
       "3  2U4GBNA0YmnNZYkzjkfgN4ev-hXSrak_BSey_YEG6kIuDG...        tpp           2   \n",
       "4  2U4GBNA0YmnNZYkzjkfgN4ev-hXSrak_BSey_YEG6kIuDG...        tpp           2   \n",
       "\n",
       "   player_assists  player_dbno  player_dist_ride  player_dist_walk  \\\n",
       "0               0            1        2870.72400       1784.847780   \n",
       "1               0            1        2938.40723       1756.079710   \n",
       "2               0            0           0.00000        224.157562   \n",
       "3               0            0           0.00000         92.935150   \n",
       "4               0            0        2619.07739       2510.447000   \n",
       "\n",
       "   player_dmg  player_kills player_name  player_survive_time  team_id  \\\n",
       "0         117             1    SnuffIes             1106.320        4   \n",
       "1         127             1      Ozon3r             1106.315        4   \n",
       "2          67             0      bovize              235.558        5   \n",
       "3           0             0     sbahn87              197.553        5   \n",
       "4         175             2   GeminiZZZ             1537.495       14   \n",
       "\n",
       "   team_placement  \n",
       "0              18  \n",
       "1              18  \n",
       "2              33  \n",
       "3              33  \n",
       "4              11  "
      ]
     },
     "execution_count": 6,
     "metadata": {},
     "output_type": "execute_result"
    }
   ],
   "source": [
    "agg.head()"
   ]
  },
  {
   "cell_type": "markdown",
   "metadata": {},
   "source": [
    "### Reorganize the data & Select relevant variables"
   ]
  },
  {
   "cell_type": "code",
   "execution_count": 7,
   "metadata": {},
   "outputs": [],
   "source": [
    "agg.columns\n",
    "agg = agg[['player_name', 'game_size', 'party_size', 'player_kills', 'player_assists','player_dist_ride', 'player_survive_time', 'team_placement']]"
   ]
  },
  {
   "cell_type": "code",
   "execution_count": 8,
   "metadata": {},
   "outputs": [
    {
     "data": {
      "text/plain": [
       "(13849287, 8)"
      ]
     },
     "execution_count": 8,
     "metadata": {},
     "output_type": "execute_result"
    }
   ],
   "source": [
    "agg.shape"
   ]
  },
  {
   "cell_type": "code",
   "execution_count": 9,
   "metadata": {},
   "outputs": [
    {
     "name": "stdout",
     "output_type": "stream",
     "text": [
      "<class 'pandas.core.frame.DataFrame'>\n",
      "Int64Index: 13849287 entries, 0 to 13849286\n",
      "Data columns (total 8 columns):\n",
      "player_name            object\n",
      "game_size              int64\n",
      "party_size             int64\n",
      "player_kills           int64\n",
      "player_assists         int64\n",
      "player_dist_ride       float64\n",
      "player_survive_time    float64\n",
      "team_placement         int64\n",
      "dtypes: float64(2), int64(5), object(1)\n",
      "memory usage: 951.0+ MB\n"
     ]
    }
   ],
   "source": [
    "agg.info()"
   ]
  },
  {
   "cell_type": "markdown",
   "metadata": {},
   "source": [
    "### Add categorical variables"
   ]
  },
  {
   "cell_type": "code",
   "execution_count": 10,
   "metadata": {},
   "outputs": [
    {
     "data": {
      "text/plain": [
       "count    1.384929e+07\n",
       "mean     1.156424e+03\n",
       "std      1.995396e+03\n",
       "min      0.000000e+00\n",
       "25%      0.000000e+00\n",
       "50%      0.000000e+00\n",
       "75%      1.899670e+03\n",
       "max      4.748712e+05\n",
       "Name: player_dist_ride, dtype: float64"
      ]
     },
     "execution_count": 10,
     "metadata": {},
     "output_type": "execute_result"
    }
   ],
   "source": [
    "# if game won\n",
    "agg['win'] = agg['team_placement'] == 1\n",
    "agg['player_dist_ride'].describe()"
   ]
  },
  {
   "cell_type": "code",
   "execution_count": 11,
   "metadata": {},
   "outputs": [
    {
     "data": {
      "text/plain": [
       "Index(['player_name', 'game_size', 'party_size', 'player_kills',\n",
       "       'player_assists', 'player_dist_ride', 'player_survive_time',\n",
       "       'team_placement', 'win', 'vehicle'],\n",
       "      dtype='object')"
      ]
     },
     "execution_count": 11,
     "metadata": {},
     "output_type": "execute_result"
    }
   ],
   "source": [
    "# if player used vehicles\n",
    "agg['vehicle'] = agg['player_dist_ride'] != 0\n",
    "agg.columns"
   ]
  },
  {
   "cell_type": "code",
   "execution_count": 12,
   "metadata": {},
   "outputs": [
    {
     "data": {
      "text/plain": [
       "count    1.384929e+07\n",
       "mean     4.714748e+01\n",
       "std      2.517672e+01\n",
       "min      4.000000e+00\n",
       "25%      2.700000e+01\n",
       "50%      4.300000e+01\n",
       "75%      5.000000e+01\n",
       "max      1.000000e+02\n",
       "Name: game_size, dtype: float64"
      ]
     },
     "execution_count": 12,
     "metadata": {},
     "output_type": "execute_result"
    }
   ],
   "source": [
    "agg['game_size'].describe()"
   ]
  },
  {
   "cell_type": "code",
   "execution_count": 13,
   "metadata": {},
   "outputs": [
    {
     "data": {
      "text/plain": [
       "Text(0.5,1,'Percentage of Winning Players vs. Number of Teams')"
      ]
     },
     "execution_count": 13,
     "metadata": {},
     "output_type": "execute_result"
    },
    {
     "data": {
      "image/png": "[encoded data removed]",
      "text/plain": [
       "<matplotlib.figure.Figure at 0x1b219efba8>"
      ]
     },
     "metadata": {},
     "output_type": "display_data"
    }
   ],
   "source": [
    "agg = agg.sort_values(by='game_size')\n",
    "agg.groupby('game_size').win.mean().plot.bar(figsize=(15,6), rot=0)\n",
    "plt.xlabel('Number of Teams', fontsize=14)\n",
    "plt.ylabel('Percentage of Winning Players', fontsize=14)\n",
    "plt.title('Percentage of Winning Players vs. Number of Teams', fontsize=20)\n",
    "plt.show()"
   ]
  },
  {
   "cell_type": "code",
   "execution_count": 14,
   "metadata": {},
   "outputs": [
    {
     "data": {
      "text/plain": [
       "(13849082, 10)"
      ]
     },
     "execution_count": 14,
     "metadata": {},
     "output_type": "execute_result"
    }
   ],
   "source": [
    "agg = agg.loc[agg['game_size'] > 10, :]\n",
    "agg.shape"
   ]
  },
  {
   "cell_type": "code",
   "execution_count": 48,
   "metadata": {},
   "outputs": [
    {
     "data": {
      "text/plain": [
       "vehicle  party_size\n",
       "False    1             1875140\n",
       "         2             2593445\n",
       "         4             3564175\n",
       "True     1             1008030\n",
       "         2             1852286\n",
       "         4             2956006\n",
       "dtype: int64"
      ]
     },
     "execution_count": 48,
     "metadata": {},
     "output_type": "execute_result"
    }
   ],
   "source": [
    "# two-way table\n",
    "grouped = agg.groupby(['vehicle', 'party_size'])\n",
    "grouped.size()"
   ]
  },
  {
   "cell_type": "code",
   "execution_count": 36,
   "metadata": {},
   "outputs": [
    {
     "data": {
      "text/html": [
       "<div>\n",
       "<style scoped>\n",
       "    .dataframe tbody tr th:only-of-type {\n",
       "        vertical-align: middle;\n",
       "    }\n",
       "\n",
       "    .dataframe tbody tr th {\n",
       "        vertical-align: top;\n",
       "    }\n",
       "\n",
       "    .dataframe thead th {\n",
       "        text-align: right;\n",
       "    }\n",
       "</style>\n",
       "<table border=\"1\" class=\"dataframe\">\n",
       "  <thead>\n",
       "    <tr style=\"text-align: right;\">\n",
       "      <th></th>\n",
       "      <th>game_size</th>\n",
       "      <th>party_size</th>\n",
       "      <th>player_kills</th>\n",
       "      <th>player_assists</th>\n",
       "      <th>player_dist_ride</th>\n",
       "      <th>player_survive_time</th>\n",
       "      <th>team_placement</th>\n",
       "    </tr>\n",
       "  </thead>\n",
       "  <tbody>\n",
       "    <tr>\n",
       "      <th>count</th>\n",
       "      <td>1.384908e+07</td>\n",
       "      <td>1.384908e+07</td>\n",
       "      <td>1.384908e+07</td>\n",
       "      <td>1.384908e+07</td>\n",
       "      <td>1.384908e+07</td>\n",
       "      <td>1.384908e+07</td>\n",
       "      <td>1.384908e+07</td>\n",
       "    </tr>\n",
       "    <tr>\n",
       "      <th>mean</th>\n",
       "      <td>4.714806e+01</td>\n",
       "      <td>2.733420e+00</td>\n",
       "      <td>8.871939e-01</td>\n",
       "      <td>2.296268e-01</td>\n",
       "      <td>1.156409e+03</td>\n",
       "      <td>8.351107e+04</td>\n",
       "      <td>2.446159e+01</td>\n",
       "    </tr>\n",
       "    <tr>\n",
       "      <th>std</th>\n",
       "      <td>2.517645e+01</td>\n",
       "      <td>1.246391e+00</td>\n",
       "      <td>1.555386e+00</td>\n",
       "      <td>5.757960e-01</td>\n",
       "      <td>1.995386e+03</td>\n",
       "      <td>7.256211e+07</td>\n",
       "      <td>2.037429e+01</td>\n",
       "    </tr>\n",
       "    <tr>\n",
       "      <th>min</th>\n",
       "      <td>1.100000e+01</td>\n",
       "      <td>1.000000e+00</td>\n",
       "      <td>0.000000e+00</td>\n",
       "      <td>0.000000e+00</td>\n",
       "      <td>0.000000e+00</td>\n",
       "      <td>0.000000e+00</td>\n",
       "      <td>0.000000e+00</td>\n",
       "    </tr>\n",
       "    <tr>\n",
       "      <th>25%</th>\n",
       "      <td>2.700000e+01</td>\n",
       "      <td>2.000000e+00</td>\n",
       "      <td>0.000000e+00</td>\n",
       "      <td>0.000000e+00</td>\n",
       "      <td>0.000000e+00</td>\n",
       "      <td>2.469810e+02</td>\n",
       "      <td>1.000000e+01</td>\n",
       "    </tr>\n",
       "    <tr>\n",
       "      <th>50%</th>\n",
       "      <td>4.300000e+01</td>\n",
       "      <td>2.000000e+00</td>\n",
       "      <td>0.000000e+00</td>\n",
       "      <td>0.000000e+00</td>\n",
       "      <td>0.000000e+00</td>\n",
       "      <td>6.530150e+02</td>\n",
       "      <td>2.000000e+01</td>\n",
       "    </tr>\n",
       "    <tr>\n",
       "      <th>75%</th>\n",
       "      <td>5.000000e+01</td>\n",
       "      <td>4.000000e+00</td>\n",
       "      <td>1.000000e+00</td>\n",
       "      <td>0.000000e+00</td>\n",
       "      <td>1.899628e+03</td>\n",
       "      <td>1.299363e+03</td>\n",
       "      <td>3.200000e+01</td>\n",
       "    </tr>\n",
       "    <tr>\n",
       "      <th>max</th>\n",
       "      <td>1.000000e+02</td>\n",
       "      <td>4.000000e+00</td>\n",
       "      <td>6.400000e+01</td>\n",
       "      <td>1.300000e+01</td>\n",
       "      <td>4.748712e+05</td>\n",
       "      <td>6.364822e+10</td>\n",
       "      <td>1.000000e+02</td>\n",
       "    </tr>\n",
       "  </tbody>\n",
       "</table>\n",
       "</div>"
      ],
      "text/plain": [
       "          game_size    party_size  player_kills  player_assists  \\\n",
       "count  1.384908e+07  1.384908e+07  1.384908e+07    1.384908e+07   \n",
       "mean   4.714806e+01  2.733420e+00  8.871939e-01    2.296268e-01   \n",
       "std    2.517645e+01  1.246391e+00  1.555386e+00    5.757960e-01   \n",
       "min    1.100000e+01  1.000000e+00  0.000000e+00    0.000000e+00   \n",
       "25%    2.700000e+01  2.000000e+00  0.000000e+00    0.000000e+00   \n",
       "50%    4.300000e+01  2.000000e+00  0.000000e+00    0.000000e+00   \n",
       "75%    5.000000e+01  4.000000e+00  1.000000e+00    0.000000e+00   \n",
       "max    1.000000e+02  4.000000e+00  6.400000e+01    1.300000e+01   \n",
       "\n",
       "       player_dist_ride  player_survive_time  team_placement  \n",
       "count      1.384908e+07         1.384908e+07    1.384908e+07  \n",
       "mean       1.156409e+03         8.351107e+04    2.446159e+01  \n",
       "std        1.995386e+03         7.256211e+07    2.037429e+01  \n",
       "min        0.000000e+00         0.000000e+00    0.000000e+00  \n",
       "25%        0.000000e+00         2.469810e+02    1.000000e+01  \n",
       "50%        0.000000e+00         6.530150e+02    2.000000e+01  \n",
       "75%        1.899628e+03         1.299363e+03    3.200000e+01  \n",
       "max        4.748712e+05         6.364822e+10    1.000000e+02  "
      ]
     },
     "execution_count": 36,
     "metadata": {},
     "output_type": "execute_result"
    }
   ],
   "source": [
    "# summary statistics\n",
    "agg.describe()"
   ]
  },
  {
   "cell_type": "markdown",
   "metadata": {},
   "source": [
    "### Distributional Shape of Variables"
   ]
  },
  {
   "cell_type": "code",
   "execution_count": 41,
   "metadata": {},
   "outputs": [
    {
     "data": {
      "text/plain": [
       "<matplotlib.axes._subplots.AxesSubplot at 0x1ade9e5710>"
      ]
     },
     "execution_count": 41,
     "metadata": {},
     "output_type": "execute_result"
    },
    {
     "data": {
      "image/png": "[encoded data removed]",
      "text/plain": [
       "<matplotlib.figure.Figure at 0x1ad8cd7940>"
      ]
     },
     "metadata": {},
     "output_type": "display_data"
    }
   ],
   "source": [
    "sns.distplot(agg['game_size'])"
   ]
  },
  {
   "cell_type": "code",
   "execution_count": 39,
   "metadata": {},
   "outputs": [
    {
     "data": {
      "text/plain": [
       "<matplotlib.axes._subplots.AxesSubplot at 0x1adbb66ba8>"
      ]
     },
     "execution_count": 39,
     "metadata": {},
     "output_type": "execute_result"
    },
    {
     "data": {
      "image/png": "[encoded data removed]",
      "text/plain": [
       "<matplotlib.figure.Figure at 0x1ad8f80080>"
      ]
     },
     "metadata": {},
     "output_type": "display_data"
    }
   ],
   "source": [
    "sns.distplot(agg['player_kills'])"
   ]
  },
  {
   "cell_type": "code",
   "execution_count": 40,
   "metadata": {},
   "outputs": [
    {
     "data": {
      "text/plain": [
       "<matplotlib.axes._subplots.AxesSubplot at 0x1ac47408d0>"
      ]
     },
     "execution_count": 40,
     "metadata": {},
     "output_type": "execute_result"
    },
    {
     "data": {
      "image/png": "[encoded data removed]",
      "text/plain": [
       "<matplotlib.figure.Figure at 0x1adbe12048>"
      ]
     },
     "metadata": {},
     "output_type": "display_data"
    }
   ],
   "source": [
    "sns.distplot(agg['player_assists'])"
   ]
  },
  {
   "cell_type": "markdown",
   "metadata": {},
   "source": [
    "## 1. Should you play by yourself or with a team? "
   ]
  },
  {
   "cell_type": "code",
   "execution_count": 26,
   "metadata": {},
   "outputs": [
    {
     "data": {
      "image/png": "[encoded data removed]",
      "text/plain": [
       "<matplotlib.figure.Figure at 0x1a96c05b70>"
      ]
     },
     "metadata": {},
     "output_type": "display_data"
    }
   ],
   "source": [
    "agg.loc[agg['party_size']>1, ['player_assists', 'win']].groupby('player_assists').win.mean().plot.bar(figsize=(15,6), rot=0)\n",
    "plt.xlabel('Assists', fontsize=14)\n",
    "plt.ylabel(\"Percentage of Winning Players\", fontsize=14)\n",
    "plt.title('Percentage of Winning Players vs Assists', fontsize=20)\n",
    "plt.show()"
   ]
  },
  {
   "cell_type": "markdown",
   "metadata": {},
   "source": [
    "The graph shows that there is a positive relationship between assist and winning. In particular, 5 assists indicates a winning ratio of 50% while 11 assists would almost ensure winning. Therefore, players should definitely team up to increase their chances of winning. "
   ]
  },
  {
   "cell_type": "markdown",
   "metadata": {},
   "source": [
    "## 2. Would killing more players increase the probability of winning? "
   ]
  },
  {
   "cell_type": "markdown",
   "metadata": {},
   "source": [
    "### (1) Shooting Skills (aka number of kills)"
   ]
  },
  {
   "cell_type": "code",
   "execution_count": 16,
   "metadata": {},
   "outputs": [
    {
     "data": {
      "text/plain": [
       "count    1.384908e+07\n",
       "mean     8.871939e-01\n",
       "std      1.555386e+00\n",
       "min      0.000000e+00\n",
       "25%      0.000000e+00\n",
       "50%      0.000000e+00\n",
       "75%      1.000000e+00\n",
       "max      6.400000e+01\n",
       "Name: player_kills, dtype: float64"
      ]
     },
     "execution_count": 16,
     "metadata": {},
     "output_type": "execute_result"
    }
   ],
   "source": [
    "agg['player_kills'].describe()"
   ]
  },
  {
   "cell_type": "code",
   "execution_count": 17,
   "metadata": {},
   "outputs": [
    {
     "data": {
      "text/plain": [
       "<matplotlib.axes._subplots.AxesSubplot at 0x1adf58b780>"
      ]
     },
     "execution_count": 17,
     "metadata": {},
     "output_type": "execute_result"
    },
    {
     "data": {
      "image/png": "[encoded data removed]",
      "text/plain": [
       "<matplotlib.figure.Figure at 0x1acd2e5668>"
      ]
     },
     "metadata": {},
     "output_type": "display_data"
    }
   ],
   "source": [
    "# side-by-side boxplot: looking at distribution and outliers of variable player_kills\n",
    "sns.boxplot(x=\"party_size\", y=\"player_kills\", data=agg)"
   ]
  },
  {
   "cell_type": "code",
   "execution_count": 18,
   "metadata": {},
   "outputs": [
    {
     "data": {
      "image/png": "[encoded data removed]",
      "text/plain": [
       "<matplotlib.figure.Figure at 0x1a96c214e0>"
      ]
     },
     "metadata": {},
     "output_type": "display_data"
    }
   ],
   "source": [
    "agg.loc[agg['player_kills'] < 35, ['player_kills', 'win']].groupby('player_kills').win.mean().plot.bar(figsize=(15,6), rot=0)\n",
    "plt.xlabel('Kills', fontsize=14)\n",
    "plt.ylabel(\"Percentage of Winning Players\", fontsize=14)\n",
    "plt.title('Percentage of Winning Players vs. Kills', fontsize=20)\n",
    "plt.show()"
   ]
  },
  {
   "cell_type": "markdown",
   "metadata": {},
   "source": [
    "The graph above shows that there is a positive relationship between the number of kills and the win ratio. In particular, killing 7 people indicates a winning ratio of approximately 30%, killing 10 people indicates a winning ratio of 50%, and kiling 15 indicates a ratio of 75%. Therefore, to increase their probability of winning, players should choose to practice and improve their shooting skills rather than hide and camouflage. "
   ]
  },
  {
   "cell_type": "code",
   "execution_count": 19,
   "metadata": {},
   "outputs": [
    {
     "data": {
      "text/plain": [
       "party_size\n",
       "1    0.897310\n",
       "2    0.897051\n",
       "4    0.876000\n",
       "Name: player_kills, dtype: float64"
      ]
     },
     "execution_count": 19,
     "metadata": {},
     "output_type": "execute_result"
    }
   ],
   "source": [
    "agg.groupby('party_size').player_kills.mean()"
   ]
  },
  {
   "cell_type": "code",
   "execution_count": 20,
   "metadata": {},
   "outputs": [
    {
     "data": {
      "text/plain": [
       "Text(0.5,1,'Kills Per Game for Different Server Type')"
      ]
     },
     "execution_count": 20,
     "metadata": {},
     "output_type": "execute_result"
    },
    {
     "data": {
      "image/png": "[encoded data removed]",
      "text/plain": [
       "<matplotlib.figure.Figure at 0x1ac0190160>"
      ]
     },
     "metadata": {},
     "output_type": "display_data"
    }
   ],
   "source": [
    "agg2 = agg.loc[agg['player_kills']<=10, ['party_size', 'player_kills']]\n",
    "sns.countplot(x='player_kills',hue = 'party_size', data=agg2).set_title('Kills Per Game for Different Server Type')"
   ]
  },
  {
   "cell_type": "markdown",
   "metadata": {},
   "source": [
    "This graph shows that for all server types, it is very difficult to achieve 7 kills. In fact, most players are distributed between 0 and 1. "
   ]
  },
  {
   "cell_type": "markdown",
   "metadata": {},
   "source": [
    "### (2) Choice of Weapons"
   ]
  },
  {
   "cell_type": "code",
   "execution_count": 21,
   "metadata": {},
   "outputs": [
    {
     "data": {
      "text/html": [
       "<div>\n",
       "<style scoped>\n",
       "    .dataframe tbody tr th:only-of-type {\n",
       "        vertical-align: middle;\n",
       "    }\n",
       "\n",
       "    .dataframe tbody tr th {\n",
       "        vertical-align: top;\n",
       "    }\n",
       "\n",
       "    .dataframe thead th {\n",
       "        text-align: right;\n",
       "    }\n",
       "</style>\n",
       "<table border=\"1\" class=\"dataframe\">\n",
       "  <thead>\n",
       "    <tr style=\"text-align: right;\">\n",
       "      <th></th>\n",
       "      <th>killed_by</th>\n",
       "      <th>killer_name</th>\n",
       "      <th>killer_placement</th>\n",
       "      <th>killer_position_x</th>\n",
       "      <th>killer_position_y</th>\n",
       "      <th>map</th>\n",
       "      <th>match_id</th>\n",
       "      <th>time</th>\n",
       "      <th>victim_name</th>\n",
       "      <th>victim_placement</th>\n",
       "      <th>victim_position_x</th>\n",
       "      <th>victim_position_y</th>\n",
       "    </tr>\n",
       "  </thead>\n",
       "  <tbody>\n",
       "    <tr>\n",
       "      <th>0</th>\n",
       "      <td>Grenade</td>\n",
       "      <td>KrazyPortuguese</td>\n",
       "      <td>5.0</td>\n",
       "      <td>657725.10</td>\n",
       "      <td>146275.2</td>\n",
       "      <td>MIRAMAR</td>\n",
       "      <td>2U4GBNA0YmnLSqvEycnTjo-KT000vfUnhSA2vfVhVPe1QB...</td>\n",
       "      <td>823</td>\n",
       "      <td>KrazyPortuguese</td>\n",
       "      <td>5.0</td>\n",
       "      <td>657725.10</td>\n",
       "      <td>146275.2</td>\n",
       "    </tr>\n",
       "    <tr>\n",
       "      <th>1</th>\n",
       "      <td>SCAR-L</td>\n",
       "      <td>nide2Bxiaojiejie</td>\n",
       "      <td>31.0</td>\n",
       "      <td>93091.37</td>\n",
       "      <td>722236.4</td>\n",
       "      <td>MIRAMAR</td>\n",
       "      <td>2U4GBNA0YmnLSqvEycnTjo-KT000vfUnhSA2vfVhVPe1QB...</td>\n",
       "      <td>194</td>\n",
       "      <td>X3evolution</td>\n",
       "      <td>33.0</td>\n",
       "      <td>92238.68</td>\n",
       "      <td>723375.1</td>\n",
       "    </tr>\n",
       "    <tr>\n",
       "      <th>2</th>\n",
       "      <td>S686</td>\n",
       "      <td>Ascholes</td>\n",
       "      <td>43.0</td>\n",
       "      <td>366921.40</td>\n",
       "      <td>421623.9</td>\n",
       "      <td>MIRAMAR</td>\n",
       "      <td>2U4GBNA0YmnLSqvEycnTjo-KT000vfUnhSA2vfVhVPe1QB...</td>\n",
       "      <td>103</td>\n",
       "      <td>CtrlZee</td>\n",
       "      <td>46.0</td>\n",
       "      <td>367304.50</td>\n",
       "      <td>421216.1</td>\n",
       "    </tr>\n",
       "    <tr>\n",
       "      <th>3</th>\n",
       "      <td>Down and Out</td>\n",
       "      <td>Weirdo7777</td>\n",
       "      <td>9.0</td>\n",
       "      <td>472014.20</td>\n",
       "      <td>313274.8</td>\n",
       "      <td>MIRAMAR</td>\n",
       "      <td>2U4GBNA0YmnLSqvEycnTjo-KT000vfUnhSA2vfVhVPe1QB...</td>\n",
       "      <td>1018</td>\n",
       "      <td>BlackDpre</td>\n",
       "      <td>13.0</td>\n",
       "      <td>476645.90</td>\n",
       "      <td>316758.4</td>\n",
       "    </tr>\n",
       "    <tr>\n",
       "      <th>4</th>\n",
       "      <td>M416</td>\n",
       "      <td>Solayuki1</td>\n",
       "      <td>9.0</td>\n",
       "      <td>473357.80</td>\n",
       "      <td>318340.5</td>\n",
       "      <td>MIRAMAR</td>\n",
       "      <td>2U4GBNA0YmnLSqvEycnTjo-KT000vfUnhSA2vfVhVPe1QB...</td>\n",
       "      <td>1018</td>\n",
       "      <td>Vjolt</td>\n",
       "      <td>13.0</td>\n",
       "      <td>473588.50</td>\n",
       "      <td>318418.8</td>\n",
       "    </tr>\n",
       "  </tbody>\n",
       "</table>\n",
       "</div>"
      ],
      "text/plain": [
       "      killed_by       killer_name  killer_placement  killer_position_x  \\\n",
       "0       Grenade   KrazyPortuguese               5.0          657725.10   \n",
       "1        SCAR-L  nide2Bxiaojiejie              31.0           93091.37   \n",
       "2          S686          Ascholes              43.0          366921.40   \n",
       "3  Down and Out        Weirdo7777               9.0          472014.20   \n",
       "4          M416         Solayuki1               9.0          473357.80   \n",
       "\n",
       "   killer_position_y      map  \\\n",
       "0           146275.2  MIRAMAR   \n",
       "1           722236.4  MIRAMAR   \n",
       "2           421623.9  MIRAMAR   \n",
       "3           313274.8  MIRAMAR   \n",
       "4           318340.5  MIRAMAR   \n",
       "\n",
       "                                            match_id  time      victim_name  \\\n",
       "0  2U4GBNA0YmnLSqvEycnTjo-KT000vfUnhSA2vfVhVPe1QB...   823  KrazyPortuguese   \n",
       "1  2U4GBNA0YmnLSqvEycnTjo-KT000vfUnhSA2vfVhVPe1QB...   194      X3evolution   \n",
       "2  2U4GBNA0YmnLSqvEycnTjo-KT000vfUnhSA2vfVhVPe1QB...   103          CtrlZee   \n",
       "3  2U4GBNA0YmnLSqvEycnTjo-KT000vfUnhSA2vfVhVPe1QB...  1018        BlackDpre   \n",
       "4  2U4GBNA0YmnLSqvEycnTjo-KT000vfUnhSA2vfVhVPe1QB...  1018            Vjolt   \n",
       "\n",
       "   victim_placement  victim_position_x  victim_position_y  \n",
       "0               5.0          657725.10           146275.2  \n",
       "1              33.0           92238.68           723375.1  \n",
       "2              46.0          367304.50           421216.1  \n",
       "3              13.0          476645.90           316758.4  \n",
       "4              13.0          473588.50           318418.8  "
      ]
     },
     "execution_count": 21,
     "metadata": {},
     "output_type": "execute_result"
    }
   ],
   "source": [
    "weapon.head()"
   ]
  },
  {
   "cell_type": "code",
   "execution_count": 22,
   "metadata": {},
   "outputs": [
    {
     "name": "stdout",
     "output_type": "stream",
     "text": [
      "<class 'pandas.core.frame.DataFrame'>\n",
      "RangeIndex: 13426348 entries, 0 to 13426347\n",
      "Data columns (total 5 columns):\n",
      "victim_name         object\n",
      "killer_name         object\n",
      "killed_by           object\n",
      "victim_placement    float64\n",
      "final               bool\n",
      "dtypes: bool(1), float64(1), object(3)\n",
      "memory usage: 422.5+ MB\n"
     ]
    }
   ],
   "source": [
    "weapon = weapon[['victim_name', 'killer_name', 'killed_by', 'victim_placement']]\n",
    "weapon['final'] = weapon['victim_placement'] <= 20\n",
    "weapon.info()"
   ]
  },
  {
   "cell_type": "code",
   "execution_count": 27,
   "metadata": {},
   "outputs": [
    {
     "data": {
      "image/png": "[encoded data removed]",
      "text/plain": [
       "<matplotlib.figure.Figure at 0x1a96c0cbe0>"
      ]
     },
     "metadata": {},
     "output_type": "display_data"
    }
   ],
   "source": [
    "weapon['killed_by'].value_counts()[1:16].plot.barh(figsize=(10,5))\n",
    "plt.xlabel(\"Kills\", fontsize=14)\n",
    "plt.ylabel(\"Weapon Name\", fontsize=14)\n",
    "plt.title('Weapon Kills', fontsize=20)\n",
    "plt.yticks(fontsize=12)\n",
    "plt.show()"
   ]
  },
  {
   "cell_type": "markdown",
   "metadata": {},
   "source": [
    "The graph above shows that the top kill weapons are M416, SCAR-L, M16A4, and AKM. It would be wise to look for these weapons during a game to increase the probability of winning. "
   ]
  },
  {
   "cell_type": "markdown",
   "metadata": {},
   "source": [
    "### Fun Fact: Ways of Suicide"
   ]
  },
  {
   "cell_type": "code",
   "execution_count": 24,
   "metadata": {},
   "outputs": [],
   "source": [
    "suicide = weapon.loc[(weapon['killer_name']==weapon['victim_name'])&(weapon['killed_by']!='Down and Out'), \"killed_by\"]"
   ]
  },
  {
   "cell_type": "code",
   "execution_count": 25,
   "metadata": {},
   "outputs": [
    {
     "data": {
      "image/png": "[encoded data removed]",
      "text/plain": [
       "<matplotlib.figure.Figure at 0x1ac01962b0>"
      ]
     },
     "metadata": {},
     "output_type": "display_data"
    }
   ],
   "source": [
    "suicide.value_counts()[:10].plot.barh()\n",
    "plt.xlabel(\"Number of Suicide\", fontsize=14)\n",
    "plt.ylabel(\"Weapon\", fontsize=14)\n",
    "plt.title('Ways to Suicide', fontsize=20)\n",
    "plt.yticks(fontsize=10)\n",
    "plt.show()"
   ]
  },
  {
   "cell_type": "markdown",
   "metadata": {},
   "source": [
    "As the highest cause of suicide, grenade also ranks lowest on weapon kills. So be extra careful when using a grenade!"
   ]
  },
  {
   "cell_type": "markdown",
   "metadata": {},
   "source": [
    "# 3. Should you travel by vehicles or by foot? "
   ]
  },
  {
   "cell_type": "code",
   "execution_count": 28,
   "metadata": {},
   "outputs": [
    {
     "data": {
      "image/png": "[encoded data removed]",
      "text/plain": [
       "<matplotlib.figure.Figure at 0x1adbb42630>"
      ]
     },
     "metadata": {},
     "output_type": "display_data"
    }
   ],
   "source": [
    "agg = agg.sort_values(by='player_dist_ride')\n",
    "agg1 = agg.loc[agg['player_survive_time'] < 10000,:]\n",
    "\n",
    "# scatter plot: no significant relationship between vehicle use and survival time\n",
    "agg1.plot.scatter(x='player_dist_ride', y='player_survive_time')\n",
    "plt.xlabel('Ride Distance')\n",
    "plt.ylabel('Survival Time')\n",
    "plt.title('Survival Time vs. Ride Distance')\n",
    "plt.show()"
   ]
  },
  {
   "cell_type": "code",
   "execution_count": 29,
   "metadata": {},
   "outputs": [
    {
     "data": {
      "image/png": "[encoded data removed]",
      "text/plain": [
       "<matplotlib.figure.Figure at 0x1ab2a07e10>"
      ]
     },
     "metadata": {},
     "output_type": "display_data"
    }
   ],
   "source": [
    "agg.groupby('vehicle').win.mean().plot.barh(figsize=(6,3))\n",
    "plt.xlabel(\"Percentage of Winning Players\", fontsize=14)\n",
    "plt.ylabel(\"Use of Vehicle\", fontsize=14)\n",
    "plt.title('Percentage of Winning Players vs Use of Vehicle', fontsize=16)\n",
    "plt.yticks([1,0],['Y','N'])\n",
    "plt.show()"
   ]
  },
  {
   "cell_type": "markdown",
   "metadata": {},
   "source": [
    "The graph shows that the win ratio without vehicle use is 0.007, and that with vehicle use is 0.058. This means that using vehicles can increase winning probability by 8 times!"
   ]
  },
  {
   "cell_type": "code",
   "execution_count": 30,
   "metadata": {},
   "outputs": [
    {
     "data": {
      "text/plain": [
       "Text(0.5,1,'Use of Vehicles for Different Party Size')"
      ]
     },
     "execution_count": 30,
     "metadata": {},
     "output_type": "execute_result"
    },
    {
     "data": {
      "image/png": "[encoded data removed]",
      "text/plain": [
       "<matplotlib.figure.Figure at 0x1ac018c240>"
      ]
     },
     "metadata": {},
     "output_type": "display_data"
    }
   ],
   "source": [
    "sns.countplot(x=\"vehicle\",hue = 'party_size', data=agg).set_title(\"Use of Vehicles for Different Party Size\")"
   ]
  },
  {
   "cell_type": "markdown",
   "metadata": {},
   "source": [
    "This shows that more players neglect the use of vehicles than not across all server types."
   ]
  },
  {
   "cell_type": "markdown",
   "metadata": {},
   "source": [
    "# III. Data Modeling"
   ]
  },
  {
   "cell_type": "markdown",
   "metadata": {},
   "source": [
    "Since our response variable is binary, we will be using logistic regression. Based on previous analysis, we decided to use the variables 'player_kills', 'game_size', and 'player_assits' as predictors for our model. "
   ]
  },
  {
   "cell_type": "code",
   "execution_count": 31,
   "metadata": {},
   "outputs": [
    {
     "name": "stderr",
     "output_type": "stream",
     "text": [
      "/Users/grumpyboo/anaconda3/lib/python3.6/site-packages/sklearn/cross_validation.py:41: DeprecationWarning: This module was deprecated in version 0.18 in favor of the model_selection module into which all the refactored classes and functions are moved. Also note that the interface of the new CV iterators are different from that of this module. This module will be removed in 0.20.\n",
      "  \"This module will be removed in 0.20.\", DeprecationWarning)\n"
     ]
    }
   ],
   "source": [
    "from sklearn.linear_model import LogisticRegression\n",
    "from sklearn import linear_model\n",
    "from sklearn import preprocessing\n",
    "from sklearn.cross_validation import train_test_split"
   ]
  },
  {
   "cell_type": "code",
   "execution_count": 32,
   "metadata": {},
   "outputs": [
    {
     "name": "stdout",
     "output_type": "stream",
     "text": [
      "                game_size  player_kills  player_assists   vehicle\n",
      "game_size        1.000000      0.005711       -0.161098 -0.078387\n",
      "player_kills     0.005711      1.000000        0.248486  0.241444\n",
      "player_assists  -0.161098      0.248486        1.000000  0.212889\n",
      "vehicle         -0.078387      0.241444        0.212889  1.000000\n"
     ]
    }
   ],
   "source": [
    "print(agg[['game_size','player_kills','player_assists','vehicle']].corr())"
   ]
  },
  {
   "cell_type": "markdown",
   "metadata": {},
   "source": [
    "### split data"
   ]
  },
  {
   "cell_type": "code",
   "execution_count": 33,
   "metadata": {},
   "outputs": [],
   "source": [
    "X = agg[['game_size','player_kills','player_assists']]\n",
    "y = agg.win\n",
    "x_train, x_test, y_train, y_test = train_test_split(X, y, test_size=0.3, random_state=0)\n",
    "\n",
    "game_size = x_train.game_size\n",
    "kills = x_train.player_kills\n",
    "assist = x_train.player_assists"
   ]
  },
  {
   "cell_type": "code",
   "execution_count": 34,
   "metadata": {},
   "outputs": [
    {
     "name": "stdout",
     "output_type": "stream",
     "text": [
      "[-3.84925723]\n",
      "[[-0.01973265  0.43304255  0.73491517]]\n"
     ]
    }
   ],
   "source": [
    "train_features = pd.DataFrame([game_size,\n",
    "                              kills,\n",
    "                              assist]).T\n",
    "\n",
    "# Initialize logistic regression model\n",
    "log_model = linear_model.LogisticRegression()\n",
    "\n",
    "# Train the model\n",
    "log_model.fit(X = train_features,\n",
    "              y = y_train)\n",
    "\n",
    "# Check trained model intercept\n",
    "print(log_model.intercept_)\n",
    "\n",
    "# Check trained model coefficients\n",
    "print(log_model.coef_)"
   ]
  },
  {
   "cell_type": "code",
   "execution_count": 42,
   "metadata": {},
   "outputs": [
    {
     "data": {
      "text/html": [
       "<div>\n",
       "<style scoped>\n",
       "    .dataframe tbody tr th:only-of-type {\n",
       "        vertical-align: middle;\n",
       "    }\n",
       "\n",
       "    .dataframe tbody tr th {\n",
       "        vertical-align: top;\n",
       "    }\n",
       "\n",
       "    .dataframe thead th {\n",
       "        text-align: right;\n",
       "    }\n",
       "</style>\n",
       "<table border=\"1\" class=\"dataframe\">\n",
       "  <thead>\n",
       "    <tr style=\"text-align: right;\">\n",
       "      <th>win</th>\n",
       "      <th>False</th>\n",
       "      <th>True</th>\n",
       "    </tr>\n",
       "    <tr>\n",
       "      <th>row_0</th>\n",
       "      <th></th>\n",
       "      <th></th>\n",
       "    </tr>\n",
       "  </thead>\n",
       "  <tbody>\n",
       "    <tr>\n",
       "      <th>False</th>\n",
       "      <td>9396639</td>\n",
       "      <td>242063</td>\n",
       "    </tr>\n",
       "    <tr>\n",
       "      <th>True</th>\n",
       "      <td>25840</td>\n",
       "      <td>29815</td>\n",
       "    </tr>\n",
       "  </tbody>\n",
       "</table>\n",
       "</div>"
      ],
      "text/plain": [
       "win      False   True \n",
       "row_0                 \n",
       "False  9396639  242063\n",
       "True     25840   29815"
      ]
     },
     "execution_count": 42,
     "metadata": {},
     "output_type": "execute_result"
    }
   ],
   "source": [
    "# Make predictions\n",
    "preds = log_model.predict(X = train_features)\n",
    "\n",
    "# Generate table of predictions vs actual\n",
    "pd.crosstab(preds,y_train)"
   ]
  },
  {
   "cell_type": "code",
   "execution_count": 43,
   "metadata": {},
   "outputs": [
    {
     "data": {
      "text/plain": [
       "0.9723650573214913"
      ]
     },
     "execution_count": 43,
     "metadata": {},
     "output_type": "execute_result"
    }
   ],
   "source": [
    "# Prediction accuracy metrics\n",
    "log_model.score(X = train_features ,\n",
    "                y = y_train)"
   ]
  },
  {
   "cell_type": "code",
   "execution_count": 44,
   "metadata": {},
   "outputs": [],
   "source": [
    "#use test data\n",
    "game_size_test = x_test.game_size\n",
    "kills_test = x_test.player_kills\n",
    "assist_test = x_test.player_assists"
   ]
  },
  {
   "cell_type": "code",
   "execution_count": 45,
   "metadata": {},
   "outputs": [],
   "source": [
    "test_features = pd.DataFrame([game_size_test,\n",
    "                              kills_test,\n",
    "                              assist_test]).T"
   ]
  },
  {
   "cell_type": "code",
   "execution_count": 46,
   "metadata": {},
   "outputs": [
    {
     "data": {
      "text/html": [
       "<div>\n",
       "<style scoped>\n",
       "    .dataframe tbody tr th:only-of-type {\n",
       "        vertical-align: middle;\n",
       "    }\n",
       "\n",
       "    .dataframe tbody tr th {\n",
       "        vertical-align: top;\n",
       "    }\n",
       "\n",
       "    .dataframe thead th {\n",
       "        text-align: right;\n",
       "    }\n",
       "</style>\n",
       "<table border=\"1\" class=\"dataframe\">\n",
       "  <thead>\n",
       "    <tr style=\"text-align: right;\">\n",
       "      <th>win</th>\n",
       "      <th>False</th>\n",
       "      <th>True</th>\n",
       "    </tr>\n",
       "    <tr>\n",
       "      <th>row_0</th>\n",
       "      <th></th>\n",
       "      <th></th>\n",
       "    </tr>\n",
       "  </thead>\n",
       "  <tbody>\n",
       "    <tr>\n",
       "      <th>False</th>\n",
       "      <td>4026664</td>\n",
       "      <td>103964</td>\n",
       "    </tr>\n",
       "    <tr>\n",
       "      <th>True</th>\n",
       "      <td>11140</td>\n",
       "      <td>12957</td>\n",
       "    </tr>\n",
       "  </tbody>\n",
       "</table>\n",
       "</div>"
      ],
      "text/plain": [
       "win      False   True \n",
       "row_0                 \n",
       "False  4026664  103964\n",
       "True     11140   12957"
      ]
     },
     "execution_count": 46,
     "metadata": {},
     "output_type": "execute_result"
    }
   ],
   "source": [
    "y_pred = log_model.predict(X = test_features)\n",
    "pd.crosstab(y_pred,y_test)"
   ]
  },
  {
   "cell_type": "code",
   "execution_count": 47,
   "metadata": {},
   "outputs": [
    {
     "data": {
      "text/plain": [
       "0.9722956393022402"
      ]
     },
     "execution_count": 47,
     "metadata": {},
     "output_type": "execute_result"
    }
   ],
   "source": [
    "# Prediction accuracy metrics using test data\n",
    "log_model.score(X = test_features ,\n",
    "                y = y_test)"
   ]
  },
  {
   "cell_type": "markdown",
   "metadata": {},
   "source": [
    "# IV. Video Presentation"
   ]
  },
  {
   "cell_type": "markdown",
   "metadata": {},
   "source": [
    "Link: "
   ]
  }
 ],
 "metadata": {
  "kernelspec": {
   "display_name": "Python 3",
   "language": "python",
   "name": "python3"
  },
  "language_info": {
   "codemirror_mode": {
    "name": "ipython",
    "version": 3
   },
   "file_extension": ".py",
   "mimetype": "text/x-python",
   "name": "python",
   "nbconvert_exporter": "python",
   "pygments_lexer": "ipython3",
   "version": "3.6.4"
  }
 },
 "nbformat": 4,
 "nbformat_minor": 2
}
